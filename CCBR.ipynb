{
  "nbformat": 4,
  "nbformat_minor": 0,
  "metadata": {
    "colab": {
      "name": "main.ipynb",
      "provenance": [],
      "collapsed_sections": [],
      "authorship_tag": "ABX9TyOd4gpDb/1vwdMKFNGQqieg",
      "include_colab_link": true
    },
    "kernelspec": {
      "name": "python3",
      "display_name": "Python 3"
    }
  },
  "cells": [
    {
      "cell_type": "markdown",
      "metadata": {
        "id": "view-in-github",
        "colab_type": "text"
      },
      "source": [
        "<a href=\"https://colab.research.google.com/github/tss1375716572/CT3D/blob/main/CCBR.ipynb\" target=\"_parent\"><img src=\"https://colab.research.google.com/assets/colab-badge.svg\" alt=\"Open In Colab\"/></a>"
      ]
    },
    {
      "cell_type": "code",
      "metadata": {
        "colab": {
          "base_uri": "https://localhost:8080/"
        },
        "id": "A9-AIuEPQalp",
        "outputId": "0bba2e9b-67c2-454d-9083-13e8b45b0bb3"
      },
      "source": [
        "from google.colab import drive\n",
        "drive.mount('/content/drive')"
      ],
      "execution_count": null,
      "outputs": [
        {
          "output_type": "stream",
          "text": [
            "Mounted at /content/drive\n"
          ],
          "name": "stdout"
        }
      ]
    },
    {
      "cell_type": "code",
      "metadata": {
        "id": "jd2mifJcKBsf",
        "colab": {
          "base_uri": "https://localhost:8080/"
        },
        "outputId": "bd804baa-52e6-44b2-b97e-644b1f8bf6b6"
      },
      "source": [
        "import numpy as np\n",
        "!pip install mat73\n",
        "import mat73\n",
        "import time\n",
        "from scipy.signal import convolve\n",
        "import matplotlib.pyplot as plt\n",
        "import scipy.io as sio"
      ],
      "execution_count": null,
      "outputs": [
        {
          "output_type": "stream",
          "text": [
            "Collecting mat73\n",
            "  Downloading https://files.pythonhosted.org/packages/95/f4/175fd094d338c5eb3b338268a301a1109c72f9ed92fa6783cdbded5de40b/mat73-0.45-py3-none-any.whl\n",
            "Requirement already satisfied: h5py in /usr/local/lib/python3.6/dist-packages (from mat73) (2.10.0)\n",
            "Requirement already satisfied: numpy in /usr/local/lib/python3.6/dist-packages (from mat73) (1.18.5)\n",
            "Requirement already satisfied: six in /usr/local/lib/python3.6/dist-packages (from h5py->mat73) (1.15.0)\n",
            "Installing collected packages: mat73\n",
            "Successfully installed mat73-0.45\n"
          ],
          "name": "stdout"
        }
      ]
    },
    {
      "cell_type": "code",
      "metadata": {
        "id": "J52vswBVmrR8"
      },
      "source": [
        "class CCBR(object):\n",
        "    \"\"\"\n",
        "        FDK method of Circular Cone-Beam Reconstruction\n",
        "    \"\"\"\n",
        "    def __init__(self):\n",
        "        \n",
        "        stime = time.time()\n",
        "        \n",
        "        dir = \"/content/drive/My Drive/Colab Notebooks/Image Reconstruction/\"\n",
        "        self.fname = dir + \"data/Circular CBCT_flat_panel_detector.prj\"\n",
        "        self.R = 40     # the distance between source and origin\n",
        "        self.l = 20     # the total length of virtual detectors or Shepplogan\n",
        "        self.n = 256    # the number of detector or pixel per row\n",
        "        self.T = self.l / self.n    # the length of each detector or each pixel\n",
        "        # the half length of virtual detectors or Shepplogan\n",
        "        self.hl = (self.l - self.T) / 2\n",
        "        self.kn = np.linspace(-255, 255, 511)   # the sample of convolve kernel\n",
        "        raw_data = np.fromfile(self.fname, np.float32)\n",
        "        # reshape the data as (beta, b, a)\n",
        "        self.data = raw_data.reshape(360, 256, 256)\n",
        "        self.pw_data = self.pre_weight()    # pre-weight the data\n",
        "        # define the convolve kernel\n",
        "        self.conv_kn = self.rl_filter()[np.newaxis, np.newaxis, :]\n",
        "        self.conv_data = convolve(self.pw_data, self.conv_kn, mode='same')\n",
        " \n",
        "        # define x, y, z, beta array\n",
        "        self.x = np.linspace(-self.hl, self.hl, self.n)[np.newaxis, \\\n",
        "                                                        np.newaxis, :]\n",
        "        self.y = np.linspace(-self.hl, self.hl, self.n)[:, np.newaxis, \\\n",
        "                                                        np.newaxis]\n",
        "        self.z = np.linspace(self.hl, -self.hl, self.n)[np.newaxis, :, \\\n",
        "                                                        np.newaxis]\n",
        "        beta_array = np.arange(0, 2 * np.pi, np.pi / 180)\n",
        "        # initial f_FDK(y, z, x)\n",
        "        self.f_fdk = np.zeros((self.n, self.n, self.n))\n",
        "        # integrate f_fdk by beta\n",
        "        for self.beta in beta_array:\n",
        "            U, a, b, beta = self.get_Uabbeta_index()\n",
        "            f = self.R ** 2 / U ** 2 * self.conv_data[beta, b, a]\n",
        "            self.f_fdk += f\n",
        "            print(\"\\r Progress: \" + str(np.around((self.beta+np.pi/180) / \\\n",
        "                                                  np.pi*50, 1)) + \"%\", end='')\n",
        "        # transpose to f(z, y, x) corresponding to Shepplogan\n",
        "        self.f_fdk = (1 / 2) * self.f_fdk.transpose((1, 0, 2))\n",
        "        # save as .mat file\n",
        "        mdic = {\"ccbr_fdk_shepplogan\": self.f_fdk}\n",
        "        sio.savemat(dir + \"data/ccbr_fdk_shepplogan.mat\", mdic)\n",
        " \n",
        "        etime = time.time()\n",
        "        print(\"\\n Time: \" + str(np.around(etime - stime, 1)) + \"s!\")\n",
        " \n",
        "    def pre_weight(self):\n",
        "        # define a, b array\n",
        "        a_array = np.linspace(-self.hl, self.hl, self.n)[np.newaxis, \\\n",
        "                                                         np.newaxis, :]\n",
        "        b_array = np.linspace(-self.hl, self.hl, self.n)[np.newaxis, :, \\\n",
        "                                                         np.newaxis]\n",
        "        pre_weighting_factor = self.R / np.sqrt(self.R ** 2 + a_array ** 2 + \\\n",
        "                                                b_array ** 2)\n",
        "        pre_weighted_data = pre_weighting_factor * self.data\n",
        "        return pre_weighted_data\n",
        "    \n",
        "    def rl_filter(self):\n",
        "        # define R-L filter\n",
        "        f = np.zeros(np.shape(self.kn))\n",
        "        j = 0\n",
        "        for i in self.kn:\n",
        "            i = int(i)\n",
        "            if i == 0:\n",
        "                f[j] = 1/(2*self.T)**2\n",
        "            elif i%2:\n",
        "                f[j] = -1/(i*np.pi*self.T)**2\n",
        "            else:\n",
        "                f[j] = 0\n",
        "            j += 1\n",
        "        return f\n",
        "    \n",
        "    def get_Uabbeta_index(self):\n",
        "        \"\"\"Round to nearest\"\"\"\n",
        "        # calculate U\n",
        "        U = self.R + self.x * np.cos(self.beta) + self.y * np.sin(self.beta)\n",
        "        # calculate a, b\n",
        "        a = self.R / U * (-self.x * np.sin(self.beta) + self.y * \\\n",
        "                          np.cos(self.beta))\n",
        "        b = self.R * self.z / U\n",
        "        a[a > self.hl] = self.hl\n",
        "        a[a < -self.hl] = -self.hl\n",
        "        b[b > self.hl] = self.hl\n",
        "        b[b < -self.hl] = -self.hl\n",
        "        a_around = (np.around((a - self.T / 2) / self.T) * self.T + self.T / 2)\n",
        "        b_around = (np.around((b - self.T / 2) / self.T) * self.T + self.T / 2)\n",
        "        a_index = ((self.hl + a_around) / self.T).astype(int)\n",
        "        b_index = ((self.hl + b_around) / self.T).astype(int)\n",
        "        beta_index = int(np.around(self.beta*180/np.pi))\n",
        "        return U, a_index, b_index, beta_index"
      ],
      "execution_count": null,
      "outputs": []
    },
    {
      "cell_type": "code",
      "metadata": {
        "id": "C_nhk4BZsn-9"
      },
      "source": [
        "class HCBR(object):\n",
        "    \"\"\"\n",
        "        FDK method of Helical Cone-Beam Reconstruction\n",
        "    \"\"\"\n",
        "    def __init__(self):\n",
        "        \n",
        "        stime = time.time()\n",
        "        \n",
        "        dir = \"/content/drive/My Drive/Colab Notebooks/Image Reconstruction/\"\n",
        "        self.fname = dir + \"data/128sliceHCT_flat_panel_detector.prj\"\n",
        "        self.R = 40     # the distance between source and origin\n",
        "        self.l = 20     # the total width of virtual detectors or Shepplogan\n",
        "        self.k = 6.4    # the total hight of virtual detectors\n",
        "        self.h = 3      # pitch\n",
        "        self.z0 = -12   # the first z position\n",
        "        self.n = 256    # the number of detector or pixel per row\n",
        "        self.m = 128    # the number of detector per column\n",
        "        self.T = self.l / self.n    # the width of each detector or each pixel\n",
        "        self.S = self.k / self.m    # the hight of each detector\n",
        "        # the half length of virtual detectors or Shepplogan\n",
        "        self.hl = (self.l - self.T) / 2\n",
        "        self.hh = (self.k - self.S) / 2\n",
        "        self.kn = np.linspace(-255, 255, 511)   # the sample of convolve kernel\n",
        "        raw_data = np.fromfile(self.fname, np.float32)\n",
        "        # reshape the data as (beta, b, a)\n",
        "        self.data = raw_data.reshape(2880, 128, 256)\n",
        "        # self.pw_data = self.pre_weight()    # pre-weight the data\n",
        "        # define the convolve kernel\n",
        "        self.conv_kn = self.rl_filter()[np.newaxis, np.newaxis, :]\n",
        "        # self.conv_data = convolve(self.pw_data, self.conv_kn, mode='same')\n",
        " \n",
        "        # define x, y, z, beta array\n",
        "        self.x = np.linspace(-self.hl, self.hl, self.n)[np.newaxis, \\\n",
        "                                                        np.newaxis, :]\n",
        "        self.y = np.linspace(-self.hl, self.hl, self.n)[:, np.newaxis, \\\n",
        "                                                        np.newaxis]\n",
        "        self.z = np.linspace(self.hl, -self.hl, self.n)[np.newaxis, :, \\\n",
        "                                                        np.newaxis]\n",
        "        beta_array = np.arange(0, 16 * np.pi, np.pi / 180)\n",
        "        self.z_beta = (self.z0 + self.h * beta_array / (2 * np.pi))[:, np.newaxis, np.newaxis]\n",
        "        self.pw_data = self.pre_weight()\n",
        "        self.conv_data = convolve(self.pw_data, self.conv_kn, mode='same')\n",
        "        b_spilth = np.zeros((2880, 256))[:, np.newaxis, :]\n",
        "        a_spilth = np.zeros((2880, 129))[:, :, np.newaxis]\n",
        "        self.f_data = \\\n",
        "        np.concatenate((np.concatenate((self.conv_data, b_spilth), axis=1), \\\n",
        "                        a_spilth), axis=2)\n",
        "        # initial f_FDK(y, z, x)\n",
        "        self.f_fdk = np.zeros((self.n, self.n, self.n))\n",
        "        # integrate f_fdk by beta\n",
        "        for self.beta in beta_array:\n",
        "            # self.z_beta = self.z0 + self.h * self.beta / (2 * np.pi)\n",
        "            # self.pw_data = self.pre_weight()\n",
        "            U, a, b, beta = self.get_Uabbeta_index()\n",
        "            f = self.R ** 2 / U ** 2 * self.f_data[beta, b, a]\n",
        "            self.f_fdk += f\n",
        "            print(\"\\r Progress: \" + str(np.around((self.beta+np.pi/180) / \\\n",
        "                                                  np.pi*25/4, 2)) + \"%\", end='')\n",
        "        # transpose to f(z, y, x) corresponding to Shepplogan\n",
        "        self.f_fdk = (1 / 2) * self.f_fdk.transpose((1, 0, 2))\n",
        "        # save as .mat file\n",
        "        mdic = {\"hcbr_fdk_shepplogan\": self.f_fdk}\n",
        "        sio.savemat(dir + \"data/hcbr_fdk_shepplogan.mat\", mdic)\n",
        " \n",
        "        etime = time.time()\n",
        "        print(\"\\n Time: \" + str(np.around(etime - stime, 1)) + \"s!\")\n",
        " \n",
        "    def pre_weight(self):\n",
        "        # define a, b array\n",
        "        a_array = np.linspace(-self.hl, self.hl, self.n)[np.newaxis, \\\n",
        "                                                         np.newaxis, :]\n",
        "        b_array = np.linspace(-self.hh, self.hh, self.m)[np.newaxis, :, \\\n",
        "                                                         np.newaxis]\n",
        "        b_array = b_array + self.z_beta\n",
        "        pre_weighting_factor = self.R / np.sqrt(self.R ** 2 + a_array ** 2 + \\\n",
        "                                                b_array ** 2)\n",
        "        pre_weighted_data = pre_weighting_factor * self.data\n",
        "        return pre_weighted_data\n",
        "    \n",
        "    def rl_filter(self):\n",
        "        # define R-L filter\n",
        "        f = np.zeros(np.shape(self.kn))\n",
        "        j = 0\n",
        "        for i in self.kn:\n",
        "            i = int(i)\n",
        "            if i == 0:\n",
        "                f[j] = 1/(2*self.T)**2\n",
        "            elif i%2:\n",
        "                f[j] = -1/(i*np.pi*self.T)**2\n",
        "            else:\n",
        "                f[j] = 0\n",
        "            j += 1\n",
        "        return f\n",
        "    \n",
        "    def get_Uabbeta_index(self):\n",
        "        \"\"\"Round to nearest\"\"\"\n",
        "        # calculate U\n",
        "        U = self.R + self.x * np.cos(self.beta) + self.y * np.sin(self.beta)\n",
        "        # calculata a, b\n",
        "        a = self.R / U * (-self.x * np.sin(self.beta) + self.y * \\\n",
        "                          np.cos(self.beta))\n",
        "        b = self.R * (self.z - self.h * self.beta / (2 * np.pi)) / U\n",
        "        # a[a > self.hl] = self.n\n",
        "        # a[a < -self.hl] = self.n\n",
        "        # b[b > self.hh] = self.m\n",
        "        # b[b < -self.hh] = self.m\n",
        "        a_around = (np.around((a - self.T / 2) / self.T) * self.T + self.T / 2)\n",
        "        b_around = (np.around((b - self.S / 2) / self.S) * self.S + self.S / 2)\n",
        "        a_index = ((self.hl + a_around) / self.T).astype(int)\n",
        "        b_index = ((self.hh + b_around) / self.S).astype(int)\n",
        "        a_index[a_index >= self.n] = self.n\n",
        "        a_index[a_index < 0] = self.n\n",
        "        b_index[b_index >= self.m] = self.m\n",
        "        b_index[b_index < 0] = self.m\n",
        "        beta_index = int(np.around(self.beta*180/np.pi))\n",
        "        return U, a_index, b_index, beta_index"
      ],
      "execution_count": null,
      "outputs": []
    },
    {
      "cell_type": "code",
      "metadata": {
        "id": "d5_4EkfO9Ipg"
      },
      "source": [
        "class Analysis(object):\n",
        "    def __init__(self):\n",
        "        dir = \"/content/drive/My Drive/Colab Notebooks/Image Reconstruction/\"\n",
        "        original = mat73.loadmat(dir + 'data/Shepplogan.mat')['Shepplogan']\n",
        "        fdk_data = sio.loadmat(dir + 'data/hcbr_fdk_shepplogan.mat')\\\n",
        "        ['hcbr_fdk_shepplogan']\n",
        "        plt.figure(\"ori\")\n",
        "        # plt.imshow(original[127, :, :], vmin=0.98, vmax=1.05, cmap='gray')\n",
        "        plt.imshow(original[127, :, :] / np.max(original), vmin=0.49, vmax=0.52, cmap='gray')\n",
        "        plt.colorbar()\n",
        " \n",
        "        plt.figure('ccbr')\n",
        "        # plt.imshow(fdk_data[127, :, :] / np.max(fdk_data), vmin=0.43, vmax=0.495, cmap='gray')      # , vmin=72.05, vmax=76.7\n",
        "        plt.imshow(fdk_data[127, :, :], cmap='gray')\n",
        "        plt.colorbar()\n",
        "        plt.show()"
      ],
      "execution_count": null,
      "outputs": []
    },
    {
      "cell_type": "code",
      "metadata": {
        "colab": {
          "base_uri": "https://localhost:8080/"
        },
        "id": "t0GMlxfd88ll",
        "outputId": "d98c8df6-27d5-4711-bcea-3fe0cdcf83c9"
      },
      "source": [
        "c = CCBR()"
      ],
      "execution_count": null,
      "outputs": [
        {
          "output_type": "stream",
          "text": [
            " Progress: 100.0%\n",
            " Time: 154.6s!\n"
          ],
          "name": "stdout"
        }
      ]
    },
    {
      "cell_type": "code",
      "metadata": {
        "colab": {
          "base_uri": "https://localhost:8080/"
        },
        "id": "EVR0i4mK12uN",
        "outputId": "67a74ce1-d32a-4ac1-e8f6-44a675dae54e"
      },
      "source": [
        "h = HCBR()"
      ],
      "execution_count": null,
      "outputs": [
        {
          "output_type": "stream",
          "text": [
            " Progress: 100.0%\n",
            " Time: 1358.0s!\n"
          ],
          "name": "stdout"
        }
      ]
    },
    {
      "cell_type": "code",
      "metadata": {
        "colab": {
          "base_uri": "https://localhost:8080/",
          "height": 521
        },
        "id": "ESm5ISqYEnhU",
        "outputId": "74d3bc26-5ad3-4c4a-d0f5-855cd797521c"
      },
      "source": [
        "a = Analysis ()"
      ],
      "execution_count": null,
      "outputs": [
        {
          "output_type": "display_data",
          "data": {
            "image/png": "[encoded data removed]",
            "text/plain": [
              "<Figure size 432x288 with 2 Axes>"
            ]
          },
          "metadata": {
            "tags": [],
            "needs_background": "light"
          }
        },
        {
          "output_type": "display_data",
          "data": {
            "image/png": "[encoded data removed]",
            "text/plain": [
              "<Figure size 432x288 with 2 Axes>"
            ]
          },
          "metadata": {
            "tags": [],
            "needs_background": "light"
          }
        }
      ]
    },
    {
      "cell_type": "code",
      "metadata": {
        "id": "jubU8-VJc3wp",
        "colab": {
          "base_uri": "https://localhost:8080/",
          "height": 269
        },
        "outputId": "c65805db-c4c0-4c22-d4fa-3a12531dd692"
      },
      "source": [
        "raw_data = np.fromfile(\"/content/drive/My Drive/Colab Notebooks/Image Reconstruction/data/128sliceHCT_flat_panel_detector.prj\", np.float32)\n",
        "raw_data = np.fromfile(\"/content/drive/My Drive/Colab Notebooks/Image Reconstruction/data/Circular CBCT_flat_panel_detector.prj\", np.float32)\n",
        "# data = mat73.loadmat('/content/drive/My Drive/Colab Notebooks/Image Reconstruction/data/Shepplogan.mat')['Shepplogan'][:, 95, :]    # 头模型xyz\n",
        "data = raw_data.reshape(360, 256, 256)[89, :, :]\n",
        "# data = raw_data.reshape(256, 128, 2880, order='F')[:, :, 0]\n",
        "plt.imshow(data, cmap='gray')\n",
        "plt.show()"
      ],
      "execution_count": null,
      "outputs": [
        {
          "output_type": "display_data",
          "data": {
            "image/png": "[encoded data removed]",
            "text/plain": [
              "<Figure size 432x288 with 1 Axes>"
            ]
          },
          "metadata": {
            "tags": [],
            "needs_background": "light"
          }
        }
      ]
    },
    {
      "cell_type": "code",
      "metadata": {
        "id": "2Re77HNP3bFI"
      },
      "source": [
        ""
      ],
      "execution_count": null,
      "outputs": []
    }
  ]
}